{
  "nbformat": 4,
  "nbformat_minor": 0,
  "metadata": {
    "colab": {
      "provenance": []
    },
    "kernelspec": {
      "name": "python3",
      "display_name": "Python 3"
    },
    "language_info": {
      "name": "python"
    }
  },
  "cells": [
    {
      "cell_type": "markdown",
      "source": [
        "# Deep Learning Frameworks\n"
      ],
      "metadata": {
        "id": "9OG9Jdx5KQF5"
      }
    },
    {
      "cell_type": "markdown",
      "source": [
        "# Theoretical questions"
      ],
      "metadata": {
        "id": "A37hEXrAKSdO"
      }
    },
    {
      "cell_type": "markdown",
      "source": [
        "\n",
        " # 1.* What is TensorFlow 2.0, and how is it different from TensorFlow 1.x?\n",
        "   TensorFlow 2.0 is a significant overhaul focusing on user-friendliness and Keras integration. Key differences from 1.x include:\n",
        "   * Eager Execution by Default: Operations run immediately, like standard Python, making debugging easier, unlike TF 1.x's required session management.\n",
        "   * Keras as High-Level API: Keras is now the primary and recommended way to build models, streamlining the process.\n",
        "   * tf.function for Performance: Allows compiling Python functions into optimized TensorFlow graphs for speed, bridging eager and graph modes.\n",
        "   * Simplified APIs: Many redundant or complex APIs from 1.x were removed or consolidated for a cleaner interface.\n",
        "   * No Global Variables: Encourages object-oriented practices for variable management.\n",
        " # 2* How do you install TensorFlow 2.0?\n",
        "   You typically install TensorFlow 2.0 using pip.\n",
        "   pip install tensorflow\n",
        "\n",
        "   For GPU support (recommended for performance), you would install the GPU version after ensuring compatible CUDA and cuDNN versions are set up:\n",
        "   pip install tensorflow[and-cuda] # Or tensorflow-gpu on older versions\n",
        "\n",
        "   Always refer to the official TensorFlow installation guide for the most accurate instructions based on your specific setup.\n",
        " #3* What is the primary function of the tf.function in TensorFlow 2.0?\n",
        "   The primary function of tf.function in TensorFlow 2.0 is to transform a regular Python function into a callable TensorFlow graph. This allows TensorFlow to perform optimizations and execute the code more efficiently, often leading to substantial performance gains, especially for repetitive computations or when deploying models. It essentially provides the performance benefits of TensorFlow 1.x's static graphs within the flexible eager execution environment of TensorFlow 2.0.\n",
        " #4* What is the purpose of the Model class in TensorFlow 2.0?\n",
        "   The purpose of the Model class (specifically tf.keras.Model) in TensorFlow 2.0 is to encapsulate a complete neural network. This includes defining its layers, specifying its inputs and outputs, and providing methods for training (.fit()), evaluation (.evaluate()), and making predictions (.predict()). It acts as a central object that organizes and manages the entire model's architecture and functionality.\n",
        " #*5 How do you create a neural network using TensorFlow 2.0?\n",
        "   You primarily create neural networks in TensorFlow 2.0 using the Keras API.\n",
        "   For simple, sequential models (layers stacked linearly):\n",
        "   import tensorflow as tf\n",
        "from tensorflow.keras import layers, models\n",
        "\n",
        "model = models.models.Sequential([\n",
        "    layers.Dense(64, activation='relu', input_shape=(784,)),\n",
        "    layers.Dropout(0.2),\n",
        "    layers.Dense(10, activation='softmax')\n",
        "])\n",
        "model.compile(optimizer='adam', loss='sparse_categorical_crossentropy', metrics=['accuracy'])\n",
        "\n",
        "   For more complex, multi-input/output, or branched architectures, you use the Functional API.\n",
        " #*6 What is the importance of Tensor Space in TensorFlow?\n",
        "   TensorSpace is a 3D visualization framework for neural networks, and while not a core part of TensorFlow itself, its importance lies in providing an intuitive and interactive way to visualize the internal structure and workings of deep learning models. This includes visualizing activations, weights, and the flow of data, which is invaluable for understanding complex architectures, debugging issues, and gaining deeper insights into model behavior.\n",
        " #* 7. How can TensorBoard be integrated with TensorFlow 2.0?\n",
        "   TensorBoard is integrated with TensorFlow 2.0 primarily through Keras Callbacks during model training. You instantiate a tf.keras.callbacks.TensorBoard callback and pass it to your model.fit() method. This callback automatically writes logs (e.g., loss, metrics, graphs, histograms) to a specified directory. You then launch TensorBoard from your terminal, pointing it to that log directory, to access a web-based visualization dashboard.\n",
        "   from tensorflow.keras.callbacks import TensorBoard\n",
        "import datetime\n",
        "log_dir = \"logs/fit/\" + datetime.datetime.now().strftime(\"%Y%m%d-%H%M%S\")\n",
        "tensorboard_callback = TensorBoard(log_dir=log_dir, histogram_freq=1)\n",
        "# model.fit(..., callbacks=[tensorboard_callback])\n",
        "\n",
        " #*8. What is the purpose of TensorFlow Playground?\n",
        "   TensorFlow Playground is an interactive web-based tool developed by Google that allows users to experiment with small, simple neural networks in their browser. Its purpose is to provide a hands-on, visual way to understand fundamental concepts of neural networks, such as the effects of activation functions, learning rate, number of layers, and regularization, by observing how these parameters influence the training process and the network's ability to classify data.\n",
        " #*9. What is Netron, and how is it useful for deep learning models?\n",
        "   Netron is a viewer for neural networks, deep learning, and machine learning models. It's a cross-platform desktop and web application that supports various model formats (e.g., ONNX, TensorFlow Lite, Keras, PyTorch via ONNX export). It's useful because it allows users to visually inspect the architecture of a trained deep learning model, including its layers, operations, and data flow, which greatly aids in understanding, debugging, and validating the model's structure.\n",
        " #*10. What is the difference between TensorFlow and PyTorch?\n",
        "   The main differences between TensorFlow and PyTorch include:\n",
        "   * Execution Style: PyTorch is inherently eager (dynamic computation graphs), offering high flexibility and a Pythonic feel. TensorFlow 2.0 adopted eager execution by default, but TensorFlow 1.x was primarily graph-based (static graphs).\n",
        "   * Debugging: PyTorch is often considered easier to debug due to its eager execution, allowing standard Python debuggers.\n",
        "   * Production Deployment: TensorFlow historically had stronger, more mature support for production deployment (e.g., TensorFlow Serving). PyTorch has significantly advanced in this area with tools like TorchScript.\n",
        "   * API Design: PyTorch's API is often seen as more intuitive and lower-level for researchers, allowing direct tensor manipulation. TensorFlow's API (especially Keras in TF2) emphasizes higher-level abstraction and ease of use.\n",
        " # 11.* How do you install PyTorch?\n",
        "   To install PyTorch, you typically use pip or conda. The official PyTorch website provides a \"Get Started\" tool that generates the exact command based on your operating system, package manager, and whether you require CPU-only or CUDA (GPU) support. For example:\n",
        "    Example for CPU only:\n",
        "pip install torch torchvision torchaudio --index-url https://download.pytorch.org/whl/cpu\n",
        "\n",
        " Example for CUDA 12.1 (check PyTorch site for latest CUDA version):\n",
        "pip install torch torchvision torchaudio --index-url https://download.pytorch.org/whl/cu121\n",
        "\n",
        "# 12.* What is the basic structure of a PyTorch neural network?\n",
        "   The basic structure of a PyTorch neural network involves creating a class that inherits from torch.nn.Module. This class typically has two main methods:\n",
        "   * _init_(self): This method is where you define all the individual layers (e.g., nn.Linear, nn.Conv2d) and other components that your network will use.\n",
        "   * forward(self, x): This method defines the forward pass of the network. It specifies how the input tensor x flows through the layers defined in _init_ to produce the output.\n",
        "   <!-- end list -->\n",
        "   import torch.nn as nn\n",
        "import torch.nn.functional as F\n",
        "class MyNetwork(nn.Module):\n",
        "    def _init_(self):\n",
        "        super(MyNetwork, self)._init_()\n",
        "        self.fc1 = nn.Linear(784, 256)\n",
        "        self.fc2 = nn.Linear(256, 10)\n",
        "    def forward(self, x):\n",
        "        x = F.relu(self.fc1(x))\n",
        "        x = self.fc2(x)\n",
        "        return x\n",
        "\n",
        " #13.* What is the significance of tensors in PyTorch?\n",
        "   Tensors are the fundamental data structure in PyTorch. Their significance stems from:\n",
        "   * Multidimensional Data Representation: They are generalized N-dimensional arrays used to represent all data in a deep learning pipeline (inputs, outputs, model parameters like weights and biases).\n",
        "   * GPU Acceleration: Tensors can be easily moved to GPUs, enabling highly parallel and efficient computations crucial for training large models.\n",
        "   * Automatic Differentiation (Autograd): PyTorch's autograd system tracks operations performed on tensors, allowing for automatic computation of gradients, which is essential for backpropagation and model optimization.\n",
        "   * Interoperability: They facilitate seamless operations between CPU and GPU devices.\n",
        " #14.* What is the difference between torch.Tensor and torch.cuda.Tensor in PyTorch?\n",
        "   * torch.Tensor: This is the base class for all tensors in PyTorch. By default, when you create a torch.Tensor (e.g., torch.randn(3, 4)), it resides in your CPU's memory. All operations on this tensor will be executed on the CPU.\n",
        "   * torch.cuda.Tensor: This is a torch.Tensor instance that specifically resides in the memory of a CUDA-enabled GPU. When you move a CPU tensor to a GPU using methods like .to('cuda') or .cuda(), it becomes a torch.cuda.Tensor. Operations performed on a torch.cuda.Tensor are executed on the GPU, leveraging its parallel processing power for significantly faster computations in deep learning.\n",
        "#15. * What is the purpose of the torch.optim module in PyTorch?\n",
        "   The torch.optim module in PyTorch provides a wide range of optimization algorithms (optimizers) that are used to update the learnable parameters (weights and biases) of a neural network during the training process. These optimizers work by analyzing the gradients of the loss function with respect to the parameters and then iteratively adjusting the parameters in a way that minimizes the loss, thereby improving the model's performance. Examples include SGD, Adam, RMSprop, etc.\n",
        " #16.* What are some common activation functions used in neural networks?\n",
        "   Some common activation functions used in neural networks are:\n",
        "   * ReLU (Rectified Linear Unit): f(x) = \\\\max(0, x). Popular for its computational efficiency and effectiveness in mitigating the vanishing gradient problem.\n",
        "   * Sigmoid: f(x) = 1 / (1 + e^{-x}). Squashes values between 0 and 1. Used in binary classification output layers but prone to vanishing gradients.\n",
        "   * Tanh (Hyperbolic Tangent): f(x) = (e^x - e^{-x}) / (e^x + e^{-x}). Squashes values between -1 and 1. Generally performs better than sigmoid but still faces vanishing gradient issues for extreme inputs.\n",
        "   * Softmax: f(x\\_i) = e^{x\\_i} / \\\\sum\\_j e^{x\\_j}. Used in the output layer for multi-class classification to convert raw scores into probabilities that sum to 1.\n",
        "   * Leaky ReLU: f(x) = x if x \\> 0 else ax (where a is a small constant). Addresses the \"dying ReLU\" problem by allowing a small, non-zero gradient for negative inputs.\n",
        " #17.* What is the difference between torch.nn.Module and torch.nn.Sequential in PyTorch?\n",
        "   * torch.nn.Module: This is the base class for all neural network modules. You inherit from nn.Module to define any reusable component, whether it's a single layer (like nn.Linear), a custom layer, or an entire complex neural network. It handles parameter registration and sub-module management.\n",
        "   * torch.nn.Sequential: This is a specific type of nn.Module that acts as a container. It allows you to stack multiple nn.Module instances (layers) in a sequential order, where the output of one module automatically becomes the input to the next. It's a convenient and concise way to build feed-forward networks without explicitly defining the forward method.\n",
        " #18.* How can you monitor training progress in TensorFlow 2.0?\n",
        "   In TensorFlow 2.0, you can monitor training progress through several methods:\n",
        "   * model.fit() Output: The fit method prints real-time updates of loss and metrics (e.g., accuracy) for each epoch to the console.\n",
        "   * TensorBoard: By using the tf.keras.callbacks.TensorBoard callback during model.fit(), you can log detailed metrics, graphs, histograms, and more, which are then visualized in an interactive web interface.\n",
        "   * Custom Callbacks: You can create your own custom Keras callbacks (tf.keras.callbacks.Callback) to log specific values, perform actions at certain stages (e.g., end of an epoch), or implement early stopping.\n",
        "   * Validation Data: Providing a validation_data argument to model.fit() allows you to track the model's performance on a separate dataset, which is crucial for detecting overfitting.\n",
        " #19.* How does the Keras API fit into TensorFlow 2.0?\n",
        "   The Keras API is the official high-level API recommended for building and training deep learning models in TensorFlow 2.0. It's fully integrated and forms the primary interface for most users. All Keras models and layers are built on top of TensorFlow's low-level operations, ensuring seamless execution and performance. Keras provides a user-friendly abstraction that simplifies the complexities of TensorFlow, making it easier to prototype, build, and deploy models.\n",
        " #20.* What is an example of a deep learning project that can be implemented using TensorFlow 2.0?\n",
        "   An example of a deep learning project that can be implemented using TensorFlow 2.0 is Image Classification. This involves building a Convolutional Neural Network (CNN) to classify images into different categories (e.g., distinguishing between cats and dogs, or classifying different types of fashion items). The project would typically involve loading an image dataset, defining the CNN architecture using tf.keras.Sequential or the Functional API, compiling the model with an appropriate optimizer and loss function, and then training it on the labeled image data.\n",
        " #21.* What is the main advantage of using pre-trained models in TensorFlow and PyTorch?\n",
        "   The main advantage of using pre-trained models in both TensorFlow and PyTorch is transfer learning. This technique allows you to leverage a model that has already been trained on a very large and general dataset (e.g., ImageNet for images, or large text corpuses for NLP). The advantages include:\n",
        "   * Reduced Training Time: Significantly cuts down the time and computational resources needed for training, as the model has already learned robust features.\n",
        "   * Improved Performance with Limited Data: Achieves better performance on new, smaller datasets compared to training from scratch, as it can transfer learned features.\n",
        "   * Faster Convergence: Models initialized with pre-trained weights tend to converge more quickly during fine-tuning.\n",
        "   * Effective Feature Extraction: Can be used as powerful feature extractors for downstream tasks."
      ],
      "metadata": {
        "id": "Jh543tVOKeQJ"
      }
    },
    {
      "cell_type": "markdown",
      "source": [
        "# Practical questions"
      ],
      "metadata": {
        "id": "AltgbeH8NmCa"
      }
    },
    {
      "cell_type": "code",
      "execution_count": 20,
      "metadata": {
        "colab": {
          "base_uri": "https://localhost:8080/"
        },
        "id": "KIE_A7lgKIuD",
        "outputId": "106d886a-4856-49a0-85bc-a5c878703037"
      },
      "outputs": [
        {
          "output_type": "stream",
          "name": "stdout",
          "text": [
            "TensorFlow version: 2.18.0\n",
            "Is GPU available: []\n",
            "Hello, TensorFlow 2.0!\n"
          ]
        }
      ],
      "source": [
        "# 1. How do you install and verify that TensorFlow 2.0 was installed successfully?\n",
        "\n",
        "#pip install tensorflow\n",
        "\n",
        "import tensorflow as tf\n",
        "\n",
        "print(f\"TensorFlow version: {tf.__version__}\")\n",
        "print(f\"Is GPU available: {tf.config.list_physical_devices('GPU')}\")\n",
        "\n",
        "hello_tensor = tf.constant(\"Hello, TensorFlow 2.0!\")\n",
        "print(hello_tensor.numpy().decode('utf-8'))\n"
      ]
    },
    {
      "cell_type": "code",
      "source": [
        "#2. * How can you define a simple function in TensorFlow 2.0 to perform addition?\n",
        "import tensorflow as tf\n",
        "\n",
        "@tf.function\n",
        "def tf_add_numbers(x, y):\n",
        "  return x + y\n",
        "\n",
        "result_tf = tf_add_numbers(tf.constant(10), tf.constant(7))\n",
        "print(f\"tf.function addition: {result_tf.numpy()}\")\n",
        "\n",
        "result_tf_py = tf_add_numbers(15, 8)\n",
        "print(f\"tf.function with Python numbers: {result_tf_py.numpy()}\")\n"
      ],
      "metadata": {
        "colab": {
          "base_uri": "https://localhost:8080/"
        },
        "id": "zbIUwJW_OlJP",
        "outputId": "0baabc94-b57f-483c-e15a-99007c711276"
      },
      "execution_count": 6,
      "outputs": [
        {
          "output_type": "stream",
          "name": "stdout",
          "text": [
            "tf.function addition: 17\n",
            "tf.function with Python numbers: 23\n"
          ]
        }
      ]
    },
    {
      "cell_type": "code",
      "source": [
        "# 3. * How can you create a simple neural network in TensorFlow 2.0 with one hidden layer?\n",
        "import tensorflow as tf\n",
        "from tensorflow.keras import layers, models\n",
        "\n",
        "input_dim = 10\n",
        "hidden_units = 32\n",
        "output_dim = 1 # For regression or binary classification (with sigmoid in output)\n",
        "\n",
        "model = models.Sequential([\n",
        "    layers.Dense(hidden_units, activation='relu', input_shape=(input_dim,)),\n",
        "    layers.Dense(output_dim)\n",
        "])\n",
        "\n",
        "model.compile(optimizer='adam',\n",
        "              loss='mean_squared_error',\n",
        "              metrics=['mean_absolute_error'])\n",
        "\n",
        "model.summary()\n"
      ],
      "metadata": {
        "colab": {
          "base_uri": "https://localhost:8080/",
          "height": 249
        },
        "id": "MYdwgH8POlFt",
        "outputId": "b105555b-235c-406e-ec79-6ad21e63c4c7"
      },
      "execution_count": 7,
      "outputs": [
        {
          "output_type": "stream",
          "name": "stderr",
          "text": [
            "/usr/local/lib/python3.11/dist-packages/keras/src/layers/core/dense.py:87: UserWarning: Do not pass an `input_shape`/`input_dim` argument to a layer. When using Sequential models, prefer using an `Input(shape)` object as the first layer in the model instead.\n",
            "  super().__init__(activity_regularizer=activity_regularizer, **kwargs)\n"
          ]
        },
        {
          "output_type": "display_data",
          "data": {
            "text/plain": [
              "\u001b[1mModel: \"sequential\"\u001b[0m\n"
            ],
            "text/html": [
              "<pre style=\"white-space:pre;overflow-x:auto;line-height:normal;font-family:Menlo,'DejaVu Sans Mono',consolas,'Courier New',monospace\"><span style=\"font-weight: bold\">Model: \"sequential\"</span>\n",
              "</pre>\n"
            ]
          },
          "metadata": {}
        },
        {
          "output_type": "display_data",
          "data": {
            "text/plain": [
              "┏━━━━━━━━━━━━━━━━━━━━━━━━━━━━━━━━━┳━━━━━━━━━━━━━━━━━━━━━━━━┳━━━━━━━━━━━━━━━┓\n",
              "┃\u001b[1m \u001b[0m\u001b[1mLayer (type)                   \u001b[0m\u001b[1m \u001b[0m┃\u001b[1m \u001b[0m\u001b[1mOutput Shape          \u001b[0m\u001b[1m \u001b[0m┃\u001b[1m \u001b[0m\u001b[1m      Param #\u001b[0m\u001b[1m \u001b[0m┃\n",
              "┡━━━━━━━━━━━━━━━━━━━━━━━━━━━━━━━━━╇━━━━━━━━━━━━━━━━━━━━━━━━╇━━━━━━━━━━━━━━━┩\n",
              "│ dense (\u001b[38;5;33mDense\u001b[0m)                   │ (\u001b[38;5;45mNone\u001b[0m, \u001b[38;5;34m32\u001b[0m)             │           \u001b[38;5;34m352\u001b[0m │\n",
              "├─────────────────────────────────┼────────────────────────┼───────────────┤\n",
              "│ dense_1 (\u001b[38;5;33mDense\u001b[0m)                 │ (\u001b[38;5;45mNone\u001b[0m, \u001b[38;5;34m1\u001b[0m)              │            \u001b[38;5;34m33\u001b[0m │\n",
              "└─────────────────────────────────┴────────────────────────┴───────────────┘\n"
            ],
            "text/html": [
              "<pre style=\"white-space:pre;overflow-x:auto;line-height:normal;font-family:Menlo,'DejaVu Sans Mono',consolas,'Courier New',monospace\">┏━━━━━━━━━━━━━━━━━━━━━━━━━━━━━━━━━┳━━━━━━━━━━━━━━━━━━━━━━━━┳━━━━━━━━━━━━━━━┓\n",
              "┃<span style=\"font-weight: bold\"> Layer (type)                    </span>┃<span style=\"font-weight: bold\"> Output Shape           </span>┃<span style=\"font-weight: bold\">       Param # </span>┃\n",
              "┡━━━━━━━━━━━━━━━━━━━━━━━━━━━━━━━━━╇━━━━━━━━━━━━━━━━━━━━━━━━╇━━━━━━━━━━━━━━━┩\n",
              "│ dense (<span style=\"color: #0087ff; text-decoration-color: #0087ff\">Dense</span>)                   │ (<span style=\"color: #00d7ff; text-decoration-color: #00d7ff\">None</span>, <span style=\"color: #00af00; text-decoration-color: #00af00\">32</span>)             │           <span style=\"color: #00af00; text-decoration-color: #00af00\">352</span> │\n",
              "├─────────────────────────────────┼────────────────────────┼───────────────┤\n",
              "│ dense_1 (<span style=\"color: #0087ff; text-decoration-color: #0087ff\">Dense</span>)                 │ (<span style=\"color: #00d7ff; text-decoration-color: #00d7ff\">None</span>, <span style=\"color: #00af00; text-decoration-color: #00af00\">1</span>)              │            <span style=\"color: #00af00; text-decoration-color: #00af00\">33</span> │\n",
              "└─────────────────────────────────┴────────────────────────┴───────────────┘\n",
              "</pre>\n"
            ]
          },
          "metadata": {}
        },
        {
          "output_type": "display_data",
          "data": {
            "text/plain": [
              "\u001b[1m Total params: \u001b[0m\u001b[38;5;34m385\u001b[0m (1.50 KB)\n"
            ],
            "text/html": [
              "<pre style=\"white-space:pre;overflow-x:auto;line-height:normal;font-family:Menlo,'DejaVu Sans Mono',consolas,'Courier New',monospace\"><span style=\"font-weight: bold\"> Total params: </span><span style=\"color: #00af00; text-decoration-color: #00af00\">385</span> (1.50 KB)\n",
              "</pre>\n"
            ]
          },
          "metadata": {}
        },
        {
          "output_type": "display_data",
          "data": {
            "text/plain": [
              "\u001b[1m Trainable params: \u001b[0m\u001b[38;5;34m385\u001b[0m (1.50 KB)\n"
            ],
            "text/html": [
              "<pre style=\"white-space:pre;overflow-x:auto;line-height:normal;font-family:Menlo,'DejaVu Sans Mono',consolas,'Courier New',monospace\"><span style=\"font-weight: bold\"> Trainable params: </span><span style=\"color: #00af00; text-decoration-color: #00af00\">385</span> (1.50 KB)\n",
              "</pre>\n"
            ]
          },
          "metadata": {}
        },
        {
          "output_type": "display_data",
          "data": {
            "text/plain": [
              "\u001b[1m Non-trainable params: \u001b[0m\u001b[38;5;34m0\u001b[0m (0.00 B)\n"
            ],
            "text/html": [
              "<pre style=\"white-space:pre;overflow-x:auto;line-height:normal;font-family:Menlo,'DejaVu Sans Mono',consolas,'Courier New',monospace\"><span style=\"font-weight: bold\"> Non-trainable params: </span><span style=\"color: #00af00; text-decoration-color: #00af00\">0</span> (0.00 B)\n",
              "</pre>\n"
            ]
          },
          "metadata": {}
        }
      ]
    },
    {
      "cell_type": "code",
      "source": [
        "#4. * How can you visualize the training progress using TensorFlow and Matplotlib?\n",
        "import tensorflow as tf\n",
        "from tensorflow.keras import layers, models\n",
        "import numpy as np\n",
        "import matplotlib.pyplot as plt\n",
        "\n",
        "X = np.random.rand(1000, 10).astype(np.float32)\n",
        "y = np.sum(X * np.array([1, 2, 3, 4, 5, 6, 7, 8, 9, 10]).astype(np.float32), axis=1) + np.random.randn(1000).astype(np.float32) * 0.1\n",
        "\n",
        "train_size = int(0.8 * len(X))\n",
        "X_train, X_val = X[:train_size], X[train_size:]\n",
        "y_train, y_val = y[:train_size], y[train_size:]\n",
        "\n",
        "model = models.Sequential([\n",
        "    layers.Dense(32, activation='relu', input_shape=(10,)),\n",
        "    layers.Dense(1)\n",
        "])\n",
        "\n",
        "model.compile(optimizer='adam',\n",
        "              loss='mean_squared_error',\n",
        "              metrics=['mean_absolute_error'])\n",
        "\n",
        "history = model.fit(X_train, y_train,\n",
        "                    epochs=50,\n",
        "                    batch_size=32,\n",
        "                    validation_data=(X_val, y_val),\n",
        "                    verbose=0)\n",
        "\n",
        "loss = history.history['loss']\n",
        "val_loss = history.history['val_loss']\n",
        "mae = history.history['mean_absolute_error']\n",
        "val_mae = history.history['val_mean_absolute_error']\n",
        "epochs = range(1, len(loss) + 1)\n",
        "\n",
        "plt.figure(figsize=(12, 5))\n",
        "\n",
        "plt.subplot(1, 2, 1)\n",
        "plt.plot(epochs, loss, 'bo', label='Training Loss')\n",
        "plt.plot(epochs, val_loss, 'b', label='Validation Loss')\n",
        "plt.title('Training and Validation Loss')\n",
        "plt.xlabel('Epochs')\n",
        "plt.ylabel('Loss')\n",
        "plt.legend()\n",
        "\n",
        "plt.subplot(1, 2, 2)\n",
        "plt.plot(epochs, mae, 'ro', label='Training MAE')\n",
        "plt.plot(epochs, val_mae, 'r', label='Validation MAE')\n",
        "plt.title('Training and Validation Mean Absolute Error')\n",
        "plt.xlabel('Epochs')\n",
        "plt.ylabel('MAE')\n",
        "plt.legend()\n",
        "\n",
        "plt.tight_layout()\n",
        "plt.show()\n"
      ],
      "metadata": {
        "colab": {
          "base_uri": "https://localhost:8080/",
          "height": 437
        },
        "id": "NKTFiZFJOk_t",
        "outputId": "36a5836c-a519-4042-8a4d-546eb9d9d861"
      },
      "execution_count": 8,
      "outputs": [
        {
          "output_type": "display_data",
          "data": {
            "text/plain": [
              "<Figure size 1200x500 with 2 Axes>"
            ],
            "image/png": "[encoded data removed]"
          },
          "metadata": {}
        }
      ]
    },
    {
      "cell_type": "code",
      "source": [
        "#5. * How do you install PyTorch and verify the PyTorch installation?\n",
        "\n",
        "#pip install torch torchvision torchaudio --index-url https://download.pytorch.org/whl/cpu\n",
        "import torch\n",
        "\n",
        "print(f\"PyTorch version: {torch.__version__}\")\n",
        "print(f\"CUDA available: {torch.cuda.is_available()}\")\n",
        "\n",
        "if torch.cuda.is_available():\n",
        "    print(f\"CUDA device name: {torch.cuda.get_device_name(0)}\")\n",
        "\n",
        "# Create random tensors\n",
        "x = torch.rand(3, 4)\n",
        "y = torch.rand(3, 4)\n",
        "\n",
        "# Tensor addition\n",
        "z = x + y\n",
        "\n",
        "print(f\"\\nTensor addition result:\\n{z}\")\n"
      ],
      "metadata": {
        "colab": {
          "base_uri": "https://localhost:8080/"
        },
        "id": "-GAh1_z_O1Px",
        "outputId": "d3cb38b5-f7b2-47b5-b3b9-df4015696b3c"
      },
      "execution_count": 10,
      "outputs": [
        {
          "output_type": "stream",
          "name": "stdout",
          "text": [
            "PyTorch version: 2.6.0+cu124\n",
            "CUDA available: False\n",
            "\n",
            "Tensor addition result:\n",
            "tensor([[0.5891, 0.9136, 0.8599, 0.5769],\n",
            "        [0.9218, 0.9125, 1.6621, 0.6881],\n",
            "        [1.0706, 1.0466, 1.0086, 1.6246]])\n"
          ]
        }
      ]
    },
    {
      "cell_type": "code",
      "source": [
        "#6.* How do you create a simple neural network in PyTorch?\n",
        "import torch\n",
        "import torch\n",
        "import torch.nn as nn\n",
        "import torch.nn.functional as F\n",
        "\n",
        "class SimpleNet(nn.Module):\n",
        "    def __init__(self, input_size, hidden_size, num_classes):  # FIXED\n",
        "        super(SimpleNet, self).__init__()                      # FIXED\n",
        "        self.fc1 = nn.Linear(input_size, hidden_size)\n",
        "        self.relu = nn.ReLU()\n",
        "        self.fc2 = nn.Linear(hidden_size, num_classes)\n",
        "\n",
        "    def forward(self, x):\n",
        "        out = self.fc1(x)\n",
        "        out = self.relu(out)\n",
        "        out = self.fc2(out)\n",
        "        return out\n",
        "\n",
        "# Parameters\n",
        "input_size = 784\n",
        "hidden_size = 128\n",
        "num_classes = 10\n",
        "\n",
        "# Instantiate model\n",
        "model = SimpleNet(input_size, hidden_size, num_classes)\n",
        "print(\"Model Architecture:\")\n",
        "print(model)\n",
        "\n",
        "# Test forward pass\n",
        "dummy_input = torch.randn(1, input_size)\n",
        "output = model(dummy_input)\n",
        "print(f\"\\nOutput shape: {output.shape}\")\n",
        "\n",
        "# Sequential model (alternative)\n",
        "model_sequential = nn.Sequential(\n",
        "    nn.Linear(input_size, hidden_size),\n",
        "    nn.ReLU(),\n",
        "    nn.Linear(hidden_size, num_classes)\n",
        ")\n",
        "print(\"\\nModel Architecture (nn.Sequential):\")\n",
        "print(model_sequential)\n"
      ],
      "metadata": {
        "colab": {
          "base_uri": "https://localhost:8080/"
        },
        "id": "2J1U98k4O5pR",
        "outputId": "13c5e7fe-c93f-44d6-9559-3c1163dfca4b"
      },
      "execution_count": 13,
      "outputs": [
        {
          "output_type": "stream",
          "name": "stdout",
          "text": [
            "Model Architecture:\n",
            "SimpleNet(\n",
            "  (fc1): Linear(in_features=784, out_features=128, bias=True)\n",
            "  (relu): ReLU()\n",
            "  (fc2): Linear(in_features=128, out_features=10, bias=True)\n",
            ")\n",
            "\n",
            "Output shape: torch.Size([1, 10])\n",
            "\n",
            "Model Architecture (nn.Sequential):\n",
            "Sequential(\n",
            "  (0): Linear(in_features=784, out_features=128, bias=True)\n",
            "  (1): ReLU()\n",
            "  (2): Linear(in_features=128, out_features=10, bias=True)\n",
            ")\n"
          ]
        }
      ]
    },
    {
      "cell_type": "code",
      "source": [
        "#7.* How do you define a loss function and optimizer in PyTorch?\n",
        "import torch\n",
        "import torch.nn as nn\n",
        "import torch.optim as optim\n",
        "\n",
        "# Define a simple linear model\n",
        "class SimpleModel(nn.Module):\n",
        "    def __init__(self, input_size, num_classes):  # FIXED: __init__ with double underscores\n",
        "        super(SimpleModel, self).__init__()       # FIXED: __init__ with double underscores\n",
        "        self.linear = nn.Linear(input_size, num_classes)\n",
        "\n",
        "    def forward(self, x):\n",
        "        return self.linear(x)\n",
        "\n",
        "# Instantiate model\n",
        "input_size = 10\n",
        "num_classes = 1  # For binary classification, use 1 output node\n",
        "model = SimpleModel(input_size, num_classes)\n",
        "\n",
        "# Define loss function (adjust based on task)\n",
        "criterion = nn.BCEWithLogitsLoss()  # For binary classification\n",
        "# criterion = nn.CrossEntropyLoss()  # For multi-class classification\n",
        "# criterion = nn.MSELoss()          # For regression\n",
        "\n",
        "print(f\"Loss Function: {criterion}\")\n",
        "\n",
        "# Define optimizer\n",
        "learning_rate = 0.001\n",
        "optimizer = optim.Adam(model.parameters(), lr=learning_rate)\n",
        "# optimizer = optim.SGD(model.parameters(), lr=learning_rate)\n",
        "\n",
        "print(f\"Optimizer: {optimizer}\")\n",
        "\n",
        "# Create dummy data for testing\n",
        "dummy_inputs = torch.randn(5, input_size)\n",
        "dummy_targets = torch.randint(0, 2, (5,)).float().view(-1, 1)  # Binary targets for BCEWithLogitsLoss\n",
        "\n",
        "# Forward pass\n",
        "outputs = model(dummy_inputs)\n",
        "loss = criterion(outputs, dummy_targets)\n",
        "print(f\"\\nInitial Loss: {loss.item()}\")\n",
        "\n",
        "# Backward and optimize\n",
        "optimizer.zero_grad()\n",
        "loss.backward()\n",
        "optimizer.step()\n",
        "\n",
        "# Check loss after one update\n",
        "updated_loss = criterion(model(dummy_inputs), dummy_targets).item()\n",
        "print(f\"Loss after optimization: {updated_loss}\")\n"
      ],
      "metadata": {
        "colab": {
          "base_uri": "https://localhost:8080/"
        },
        "id": "tdvca1ZGPDOt",
        "outputId": "be80b6b4-755c-4092-b91c-43c79e9ba325"
      },
      "execution_count": 14,
      "outputs": [
        {
          "output_type": "stream",
          "name": "stdout",
          "text": [
            "Loss Function: BCEWithLogitsLoss()\n",
            "Optimizer: Adam (\n",
            "Parameter Group 0\n",
            "    amsgrad: False\n",
            "    betas: (0.9, 0.999)\n",
            "    capturable: False\n",
            "    differentiable: False\n",
            "    eps: 1e-08\n",
            "    foreach: None\n",
            "    fused: None\n",
            "    lr: 0.001\n",
            "    maximize: False\n",
            "    weight_decay: 0\n",
            ")\n",
            "\n",
            "Initial Loss: 0.7498677968978882\n",
            "Loss after optimization: 0.7487636804580688\n"
          ]
        }
      ]
    },
    {
      "cell_type": "code",
      "source": [
        "#8. * How do you implement a custom loss function in PyTorch?\n",
        "import torch\n",
        "import torch.nn as nn\n",
        "import torch.nn.functional as F\n",
        "\n",
        "# Option 1: As a simple Python function\n",
        "def custom_mae_loss(predictions, targets):\n",
        "    return torch.mean(torch.abs(predictions - targets))\n",
        "\n",
        "# Option 2: As an nn.Module\n",
        "class CustomMSELoss(nn.Module):\n",
        "    def _init_(self):\n",
        "        super(CustomMSELoss, self)._init_()\n",
        "    def forward(self, predictions, targets):\n",
        "        return torch.mean((predictions - targets)**2)\n",
        "\n",
        "predictions = torch.randn(5, 1, requires_grad=True)\n",
        "targets = torch.randn(5, 1)\n",
        "\n",
        "loss_mae = custom_mae_loss(predictions, targets)\n",
        "print(f\"Custom MAE Loss (function-based): {loss_mae.item()}\")\n",
        "loss_mae.backward()\n",
        "# print(f\"Gradients of predictions wrt MAE Loss:\\n{predictions.grad}\")\n",
        "\n",
        "custom_mse_criterion = CustomMSELoss()\n",
        "loss_mse = custom_mse_criterion(predictions, targets)\n",
        "print(f\"Custom MSE Loss (nn.Module-based): {loss_mse.item()}\")\n"
      ],
      "metadata": {
        "colab": {
          "base_uri": "https://localhost:8080/"
        },
        "id": "VrZDaC3LPJSn",
        "outputId": "a495f54b-c389-4e2a-e667-167ac34e988e"
      },
      "execution_count": 15,
      "outputs": [
        {
          "output_type": "stream",
          "name": "stdout",
          "text": [
            "Custom MAE Loss (function-based): 0.620671272277832\n",
            "Custom MSE Loss (nn.Module-based): 0.4882845878601074\n"
          ]
        }
      ]
    },
    {
      "cell_type": "code",
      "source": [
        "#9. * How do you save and load a TensorFlow model?\n",
        "import tensorflow as tf\n",
        "from tensorflow.keras import layers, models\n",
        "import numpy as np\n",
        "import os\n",
        "\n",
        "# Define and compile model\n",
        "model = models.Sequential([\n",
        "    layers.Dense(32, activation='relu', input_shape=(10,)),\n",
        "    layers.Dense(1, activation='sigmoid')\n",
        "])\n",
        "model.compile(optimizer='adam', loss='binary_crossentropy', metrics=['accuracy'])\n",
        "\n",
        "# Dummy training data\n",
        "X_train = np.random.rand(100, 10).astype(np.float32)\n",
        "y_train = np.random.randint(0, 2, 100).astype(np.float32)\n",
        "\n",
        "# Train the model\n",
        "model.fit(X_train, y_train, epochs=1, verbose=0)\n",
        "initial_weights_l0 = model.layers[0].get_weights()[0][0][:5]\n",
        "\n",
        "# Save the full model (.keras format recommended)\n",
        "model_save_path = 'my_tf_model.keras'  # <-- FIXED\n",
        "print(f\"Saving model to: {model_save_path}\")\n",
        "model.save(model_save_path)\n",
        "print(\"Model saved successfully!\")\n",
        "\n",
        "# Load the full model\n",
        "print(f\"\\nLoading model from: {model_save_path}\")\n",
        "loaded_model = tf.keras.models.load_model(model_save_path)\n",
        "print(\"Model loaded successfully!\")\n",
        "loaded_model.summary()\n",
        "\n",
        "# Verify weight equivalence\n",
        "loaded_weights_l0 = loaded_model.layers[0].get_weights()[0][0][:5]\n",
        "assert np.allclose(initial_weights_l0, loaded_weights_l0)\n",
        "print(\"Weights match between original and loaded model!\")\n",
        "\n",
        "# Save/Load weights only (optional)\n",
        "weights_path = 'my_model_weights.weights.h5'\n",
        "model.save_weights(weights_path)\n",
        "print(f\"\\nWeights saved to: {weights_path}\")\n",
        "\n",
        "# Define a new model with same architecture\n",
        "new_model = models.Sequential([\n",
        "    layers.Dense(32, activation='relu', input_shape=(10,)),\n",
        "    layers.Dense(1, activation='sigmoid')\n",
        "])\n",
        "new_model.compile(optimizer='adam', loss='binary_crossentropy', metrics=['accuracy'])\n",
        "\n",
        "# Load saved weights\n",
        "new_model.load_weights(weights_path)\n",
        "print(\"Weights loaded into new model!\")\n"
      ],
      "metadata": {
        "colab": {
          "base_uri": "https://localhost:8080/",
          "height": 429
        },
        "id": "EKjyJqEyPQ8B",
        "outputId": "0fae2a9e-3b5f-42de-fa4f-3956354ef529"
      },
      "execution_count": 17,
      "outputs": [
        {
          "output_type": "stream",
          "name": "stdout",
          "text": [
            "Saving model to: my_tf_model.keras\n",
            "Model saved successfully!\n",
            "\n",
            "Loading model from: my_tf_model.keras\n",
            "Model loaded successfully!\n"
          ]
        },
        {
          "output_type": "display_data",
          "data": {
            "text/plain": [
              "\u001b[1mModel: \"sequential_3\"\u001b[0m\n"
            ],
            "text/html": [
              "<pre style=\"white-space:pre;overflow-x:auto;line-height:normal;font-family:Menlo,'DejaVu Sans Mono',consolas,'Courier New',monospace\"><span style=\"font-weight: bold\">Model: \"sequential_3\"</span>\n",
              "</pre>\n"
            ]
          },
          "metadata": {}
        },
        {
          "output_type": "display_data",
          "data": {
            "text/plain": [
              "┏━━━━━━━━━━━━━━━━━━━━━━━━━━━━━━━━━┳━━━━━━━━━━━━━━━━━━━━━━━━┳━━━━━━━━━━━━━━━┓\n",
              "┃\u001b[1m \u001b[0m\u001b[1mLayer (type)                   \u001b[0m\u001b[1m \u001b[0m┃\u001b[1m \u001b[0m\u001b[1mOutput Shape          \u001b[0m\u001b[1m \u001b[0m┃\u001b[1m \u001b[0m\u001b[1m      Param #\u001b[0m\u001b[1m \u001b[0m┃\n",
              "┡━━━━━━━━━━━━━━━━━━━━━━━━━━━━━━━━━╇━━━━━━━━━━━━━━━━━━━━━━━━╇━━━━━━━━━━━━━━━┩\n",
              "│ dense_6 (\u001b[38;5;33mDense\u001b[0m)                 │ (\u001b[38;5;45mNone\u001b[0m, \u001b[38;5;34m32\u001b[0m)             │           \u001b[38;5;34m352\u001b[0m │\n",
              "├─────────────────────────────────┼────────────────────────┼───────────────┤\n",
              "│ dense_7 (\u001b[38;5;33mDense\u001b[0m)                 │ (\u001b[38;5;45mNone\u001b[0m, \u001b[38;5;34m1\u001b[0m)              │            \u001b[38;5;34m33\u001b[0m │\n",
              "└─────────────────────────────────┴────────────────────────┴───────────────┘\n"
            ],
            "text/html": [
              "<pre style=\"white-space:pre;overflow-x:auto;line-height:normal;font-family:Menlo,'DejaVu Sans Mono',consolas,'Courier New',monospace\">┏━━━━━━━━━━━━━━━━━━━━━━━━━━━━━━━━━┳━━━━━━━━━━━━━━━━━━━━━━━━┳━━━━━━━━━━━━━━━┓\n",
              "┃<span style=\"font-weight: bold\"> Layer (type)                    </span>┃<span style=\"font-weight: bold\"> Output Shape           </span>┃<span style=\"font-weight: bold\">       Param # </span>┃\n",
              "┡━━━━━━━━━━━━━━━━━━━━━━━━━━━━━━━━━╇━━━━━━━━━━━━━━━━━━━━━━━━╇━━━━━━━━━━━━━━━┩\n",
              "│ dense_6 (<span style=\"color: #0087ff; text-decoration-color: #0087ff\">Dense</span>)                 │ (<span style=\"color: #00d7ff; text-decoration-color: #00d7ff\">None</span>, <span style=\"color: #00af00; text-decoration-color: #00af00\">32</span>)             │           <span style=\"color: #00af00; text-decoration-color: #00af00\">352</span> │\n",
              "├─────────────────────────────────┼────────────────────────┼───────────────┤\n",
              "│ dense_7 (<span style=\"color: #0087ff; text-decoration-color: #0087ff\">Dense</span>)                 │ (<span style=\"color: #00d7ff; text-decoration-color: #00d7ff\">None</span>, <span style=\"color: #00af00; text-decoration-color: #00af00\">1</span>)              │            <span style=\"color: #00af00; text-decoration-color: #00af00\">33</span> │\n",
              "└─────────────────────────────────┴────────────────────────┴───────────────┘\n",
              "</pre>\n"
            ]
          },
          "metadata": {}
        },
        {
          "output_type": "display_data",
          "data": {
            "text/plain": [
              "\u001b[1m Total params: \u001b[0m\u001b[38;5;34m1,157\u001b[0m (4.52 KB)\n"
            ],
            "text/html": [
              "<pre style=\"white-space:pre;overflow-x:auto;line-height:normal;font-family:Menlo,'DejaVu Sans Mono',consolas,'Courier New',monospace\"><span style=\"font-weight: bold\"> Total params: </span><span style=\"color: #00af00; text-decoration-color: #00af00\">1,157</span> (4.52 KB)\n",
              "</pre>\n"
            ]
          },
          "metadata": {}
        },
        {
          "output_type": "display_data",
          "data": {
            "text/plain": [
              "\u001b[1m Trainable params: \u001b[0m\u001b[38;5;34m385\u001b[0m (1.50 KB)\n"
            ],
            "text/html": [
              "<pre style=\"white-space:pre;overflow-x:auto;line-height:normal;font-family:Menlo,'DejaVu Sans Mono',consolas,'Courier New',monospace\"><span style=\"font-weight: bold\"> Trainable params: </span><span style=\"color: #00af00; text-decoration-color: #00af00\">385</span> (1.50 KB)\n",
              "</pre>\n"
            ]
          },
          "metadata": {}
        },
        {
          "output_type": "display_data",
          "data": {
            "text/plain": [
              "\u001b[1m Non-trainable params: \u001b[0m\u001b[38;5;34m0\u001b[0m (0.00 B)\n"
            ],
            "text/html": [
              "<pre style=\"white-space:pre;overflow-x:auto;line-height:normal;font-family:Menlo,'DejaVu Sans Mono',consolas,'Courier New',monospace\"><span style=\"font-weight: bold\"> Non-trainable params: </span><span style=\"color: #00af00; text-decoration-color: #00af00\">0</span> (0.00 B)\n",
              "</pre>\n"
            ]
          },
          "metadata": {}
        },
        {
          "output_type": "display_data",
          "data": {
            "text/plain": [
              "\u001b[1m Optimizer params: \u001b[0m\u001b[38;5;34m772\u001b[0m (3.02 KB)\n"
            ],
            "text/html": [
              "<pre style=\"white-space:pre;overflow-x:auto;line-height:normal;font-family:Menlo,'DejaVu Sans Mono',consolas,'Courier New',monospace\"><span style=\"font-weight: bold\"> Optimizer params: </span><span style=\"color: #00af00; text-decoration-color: #00af00\">772</span> (3.02 KB)\n",
              "</pre>\n"
            ]
          },
          "metadata": {}
        },
        {
          "output_type": "stream",
          "name": "stdout",
          "text": [
            "Weights match between original and loaded model!\n",
            "\n",
            "Weights saved to: my_model_weights.weights.h5\n",
            "Weights loaded into new model!\n"
          ]
        },
        {
          "output_type": "stream",
          "name": "stderr",
          "text": [
            "/usr/local/lib/python3.11/dist-packages/keras/src/saving/saving_lib.py:757: UserWarning: Skipping variable loading for optimizer 'adam', because it has 2 variables whereas the saved optimizer has 10 variables. \n",
            "  saveable.load_own_variables(weights_store.get(inner_path))\n"
          ]
        }
      ]
    },
    {
      "cell_type": "code",
      "source": [],
      "metadata": {
        "id": "SKzAA_F9ewLH"
      },
      "execution_count": null,
      "outputs": []
    }
  ]
}